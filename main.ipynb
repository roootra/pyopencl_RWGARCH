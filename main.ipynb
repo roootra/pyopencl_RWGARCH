{
 "cells": [
  {
   "cell_type": "code",
   "execution_count": 5,
   "metadata": {},
   "outputs": [],
   "source": [
    "from __future__ import absolute_import, print_function\n",
    "import numpy as np\n",
    "import pandas as pd\n",
    "import pyopencl as cl\n",
    "import sys, os\n",
    "import statsmodels.api as sm"
   ]
  },
  {
   "cell_type": "code",
   "execution_count": 6,
   "metadata": {},
   "outputs": [],
   "source": [
    "PATH_TO_INDICES_FOLDER = \"/Users/rutra/ВШЭ/4 курс/ВКР/data/daily/\"\n",
    "files = os.listdir(PATH_TO_INDICES_FOLDER)\n",
    "files.remove(r\".DS_Store\")\n",
    "files.remove(r\"summary.xlsx\")\n",
    "indices = dict()\n",
    "prices = dict()\n",
    "returns = dict()\n",
    "for file in files:\n",
    "    name = file[:-4].upper()  # delete .csv residual\n",
    "    indices[name] = pd.read_csv(PATH_TO_INDICES_FOLDER + file)\n",
    "    indices[name].loc[:, \"Date\"] = sm.tsa.datetools.dates_from_str(\n",
    "        indices[name].loc[:, \"Date\"]\n",
    "    )\n",
    "    prices[name] = indices[name].loc[:, [\"Date\", \"Close\"]]\n",
    "    prices[name].loc[:, \"Returns\"] = np.log(prices[name].loc[:, \"Close\"]).diff()\n",
    "    prices[name] = prices[name].dropna()\n",
    "del (PATH_TO_INDICES_FOLDER, file, files, name)"
   ]
  },
  {
   "cell_type": "code",
   "execution_count": 7,
   "metadata": {},
   "outputs": [],
   "source": [
    "ctx = cl.create_some_context()"
   ]
  }
 ],
 "metadata": {
  "kernelspec": {
   "display_name": "Python 3",
   "language": "python",
   "name": "python3"
  },
  "language_info": {
   "codemirror_mode": {
    "name": "ipython",
    "version": 3
   },
   "file_extension": ".py",
   "mimetype": "text/x-python",
   "name": "python",
   "nbconvert_exporter": "python",
   "pygments_lexer": "ipython3",
   "version": "3.7.3"
  }
 },
 "nbformat": 4,
 "nbformat_minor": 2
}
